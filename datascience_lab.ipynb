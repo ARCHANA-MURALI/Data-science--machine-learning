{
  "nbformat": 4,
  "nbformat_minor": 0,
  "metadata": {
    "colab": {
      "provenance": [],
      "authorship_tag": "ABX9TyPYtYhVVqrX7xKpagxbm6wu",
      "include_colab_link": true
    },
    "kernelspec": {
      "name": "python3",
      "display_name": "Python 3"
    },
    "language_info": {
      "name": "python"
    }
  },
  "cells": [
    {
      "cell_type": "markdown",
      "metadata": {
        "id": "view-in-github",
        "colab_type": "text"
      },
      "source": [
        "<a href=\"https://colab.research.google.com/github/ARCHANA-MURALI/Data-science--machine-learning/blob/main/datascience_lab.ipynb\" target=\"_parent\"><img src=\"https://colab.research.google.com/assets/colab-badge.svg\" alt=\"Open In Colab\"/></a>"
      ]
    },
    {
      "cell_type": "code",
      "execution_count": 1,
      "metadata": {
        "colab": {
          "base_uri": "https://localhost:8080/"
        },
        "id": "eD-cXObaCNVc",
        "outputId": "d81b3d01-7dd2-46c1-b915-9c66a201046f"
      },
      "outputs": [
        {
          "output_type": "stream",
          "name": "stdout",
          "text": [
            "One dimensional array a =  [1 2 3]\n",
            "Two dimensional array b =  [[1 2 3]\n",
            " [4 5 6]]\n",
            "Size of the array:  (3,)\n",
            "Element at indices 0,1,2 :  1 2 3\n",
            "Array after changing the element at index 0 :  [5 2 3]\n",
            "An array of all zeros :  [[0. 0.]\n",
            " [0. 0.]]\n",
            "An array of all ones :  [[1. 1.]]\n",
            "A constant array :  [[7 7]\n",
            " [7 7]]\n",
            "A 2*2 identity matrix :  [[1. 0.]\n",
            " [0. 1.]]\n",
            "An array with random values :  [[0.2785593  0.67977816]\n",
            " [0.69530327 0.04973509]]\n"
          ]
        }
      ],
      "source": [
        "import numpy as np\n",
        "a = np.array([1, 2, 3]) # Create a rank 1 array\n",
        "print(\"One dimensional array a = \",a)\n",
        "b = np.array([[1,2,3],[4,5,6]])\n",
        "print(\"Two dimensional array b = \",b)\n",
        "print(\"Size of the array: \",a.shape)\n",
        "print(\"Element at indices 0,1,2 : \",a[0], a[1], a[2])\n",
        "a[0] = 5 # Change an element of the array\n",
        "print(\"Array after changing the element at index 0 : \",a)\n",
        "a = np.zeros((2,2)) # Create an array of all zeros\n",
        "print(\"An array of all zeros : \",a)\n",
        "b = np.ones((1,2)) # Create an array of all ones\n",
        "print(\"An array of all ones : \",b)\n",
        "c = np.full((2,2), 7) # Create a constant array\n",
        "print(\"A constant array : \",c)\n",
        "d = np.eye (2) # Create a 2x2 identity matrix\n",
        "print(\"A 2*2 identity matrix : \",d)\n",
        "e = np.random.random((2,2)) # Create an array filled with random values\n",
        "print(\"An array with random values : \",e)"
      ]
    },
    {
      "cell_type": "code",
      "source": [],
      "metadata": {
        "id": "vTARXncEHaLT"
      },
      "execution_count": null,
      "outputs": []
    }
  ]
}